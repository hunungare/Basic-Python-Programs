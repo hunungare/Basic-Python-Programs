{
  "nbformat": 4,
  "nbformat_minor": 0,
  "metadata": {
    "colab": {
      "name": "0-1 Knapsack.ipynb",
      "provenance": [],
      "authorship_tag": "ABX9TyNiJiSfT8Wair3iOtJnsnyN",
      "include_colab_link": true
    },
    "kernelspec": {
      "name": "python3",
      "display_name": "Python 3"
    }
  },
  "cells": [
    {
      "cell_type": "markdown",
      "metadata": {
        "id": "view-in-github",
        "colab_type": "text"
      },
      "source": [
        "<a href=\"https://colab.research.google.com/github/hunungare/Basic-Python-Programs/blob/master/0_1_Knapsack(greedy%20approach)%20%26%20largest%20min%20dist%20among%20k%20points.ipynb\" target=\"_parent\"><img src=\"https://colab.research.google.com/assets/colab-badge.svg\" alt=\"Open In Colab\"/></a>"
      ]
    },
    {
      "cell_type": "code",
      "metadata": {
        "id": "i5eDnhovv-hQ",
        "colab_type": "code",
        "colab": {
          "base_uri": "https://localhost:8080/",
          "height": 136
        },
        "outputId": "3a59287a-bbe9-4637-da71-07998eff3dd0"
      },
      "source": [
        "def printknapSack(W, wt, val, n): \n",
        "\tK = [[0 for w in range(W + 1)] \n",
        "\t\t\tfor i in range(n + 1)] \n",
        "\t\t\t\n",
        "\tfor i in range(n + 1): \n",
        "\t\tfor w in range(W + 1): \n",
        "\t\t\tif i == 0 or w == 0: \n",
        "\t\t\t\tK[i][w] = 0\n",
        "\t\t\telif wt[i - 1] <= w: \n",
        "\t\t\t\tK[i][w] = max(val[i - 1] \n",
        "\t\t\t\t+ K[i - 1][w - wt[i - 1]], \n",
        "\t\t\t\t\t\t\tK[i - 1][w]) \n",
        "\t\t\telse: \n",
        "\t\t\t\tK[i][w] = K[i - 1][w] \n",
        "\n",
        "\tres = K[n][W] \n",
        "\tprint(\"Max profit : \",res) \n",
        "\t\n",
        "\tw = W \n",
        "\tfor i in range(n, 0, -1): \n",
        "\t\tif res <= 0: \n",
        "\t\t\tbreak \n",
        "\t\tif res == K[i - 1][w]: \n",
        "\t\t\tcontinue\n",
        "\t\telse:  \n",
        "\t\t\tprint(wt[i - 1])\n",
        "\t\t\tres = res - val[i - 1] \n",
        "\t\t\tw = w - wt[i - 1] \n",
        "n=int(input('Enter no. of object : '))\n",
        "val = list(map(int,input('Enter profit values : ').split()))\n",
        "wt =  list(map(int,input('Enter weight values : ').split()))\n",
        "W = int(input('Enter max capacity of sack : '))\n",
        "#n = len(val) \n",
        "\t\n",
        "printknapSack(W, wt, val, n) \n",
        "\n",
        " \n"
      ],
      "execution_count": 27,
      "outputs": [
        {
          "output_type": "stream",
          "text": [
            "Enter no. of object : 4\n",
            "Enter profit values : 24 18 18 10\n",
            "Enter weight values : 24 10 10 7\n",
            "Enter max capacity of sack : 25\n",
            "Max profit :  36\n",
            "10\n",
            "10\n"
          ],
          "name": "stdout"
        }
      ]
    },
    {
      "cell_type": "code",
      "metadata": {
        "id": "Ay0ZK2YE-3ai",
        "colab_type": "code",
        "colab": {
          "base_uri": "https://localhost:8080/",
          "height": 68
        },
        "outputId": "8c1ac1f4-584d-4545-af4a-b873da551115"
      },
      "source": [
        "def isFeasible(mid, arr, n, k): \n",
        "\tpos = arr[0]  \n",
        "\telements = 1\n",
        "\n",
        "\tfor i in range(1, n, 1): \n",
        "\t\tif (arr[i] - pos >= mid): \n",
        "\t\t\tpos = arr[i] \n",
        "\t\t\telements += 1\n",
        "\n",
        "\t\t\tif (elements == k): \n",
        "\t\t\t\treturn True\n",
        "\treturn 0\n",
        "\n",
        "def largestMinDist(arr, n, k): \n",
        "\tarr.sort(reverse = False) \n",
        "\tres = -1\n",
        "\tleft = arr[0] \n",
        "\tright = arr[n - 1] \n",
        " \n",
        "\twhile (left < right): \n",
        "\t\tmid = (left + right) / 2\n",
        "\t\tif (isFeasible(mid, arr, n, k)): \n",
        "\t\t\tres = max(res, mid) \n",
        "\t\t\tleft = mid + 1 \n",
        "\t\telse: \n",
        "\t\t\tright = mid \n",
        "\n",
        "\treturn res \n",
        "\n",
        "if __name__ == '__main__': \n",
        "\tarr = list(map(int,input('Enter array : ').split()))\n",
        "\tn = len(arr) \n",
        "\tk = int(input('Enter points value : '))\n",
        "\tprint(\"largest minimum distance is : \",largestMinDist(arr, n, k)) \n"
      ],
      "execution_count": 31,
      "outputs": [
        {
          "output_type": "stream",
          "text": [
            "Enter array : 1 2 8 4 9\n",
            "Enter points value : 3\n",
            "largest minimum distance is :  3.0\n"
          ],
          "name": "stdout"
        }
      ]
    }
  ]
}