{
  "nbformat": 4,
  "nbformat_minor": 0,
  "metadata": {
    "colab": {
      "name": "Knapsack problem",
      "provenance": [],
      "collapsed_sections": [],
      "authorship_tag": "ABX9TyMzltbUsLZ+GhnLct2zsQ5S",
      "include_colab_link": true
    },
    "kernelspec": {
      "name": "python3",
      "display_name": "Python 3"
    }
  },
  "cells": [
    {
      "cell_type": "markdown",
      "metadata": {
        "id": "view-in-github",
        "colab_type": "text"
      },
      "source": [
        "<a href=\"https://colab.research.google.com/github/hunungare/Basic-Python-Programs/blob/master/Knapsack_problem.ipynb\" target=\"_parent\"><img src=\"https://colab.research.google.com/assets/colab-badge.svg\" alt=\"Open In Colab\"/></a>"
      ]
    },
    {
      "cell_type": "code",
      "metadata": {
        "id": "YpCWdG1sCQs_",
        "colab_type": "code",
        "colab": {
          "base_uri": "https://localhost:8080/",
          "height": 102
        },
        "outputId": "61719c66-ca57-417c-fd90-edcc43807c51"
      },
      "source": [
        "import operator\n",
        "n=int(input('Enter no. of object : '))\n",
        "profit=list(map(int,input('Enter profit values : ').split()))\n",
        "weight=list(map(int,input('Enter weight values : ').split()))\n",
        "m=int(input('Enter max capacity of sack : '))\n",
        "\n",
        "l=[]#[p,w,p/w],[...],..\n",
        "for i in range(n):\n",
        "  l.append([profit[i],weight[i],profit[i]*1.0/weight[i]])\n",
        "\n",
        "#sort\n",
        "l=sorted(l,reverse=True,key=operator.itemgetter(2))\n",
        "\n",
        "max_prof =0\n",
        "#fract_obj=0\n",
        "\n",
        "for i in range(n):\n",
        "  if m>0 and l[i][1]<m:\n",
        "    m-=l[i][1]\n",
        "    max_prof+=l[i][0]\n",
        " # else:\n",
        "  #  fract_obj=i\n",
        "   # break\n",
        "#if m>0:\n",
        "# max_prof+=m*(l[fract_obj][0]/l[fract_obj][1])\n",
        "print(max_prof)"
      ],
      "execution_count": null,
      "outputs": [
        {
          "output_type": "stream",
          "text": [
            "Enter no. of obj7\n",
            "Enter profit values :10 5 15 7 6 18 3\n",
            "Enter weight values :2 3 5 7 1 4 1\n",
            "Enter max capacity of sack15\n",
            "52\n"
          ],
          "name": "stdout"
        }
      ]
    },
    {
      "cell_type": "code",
      "metadata": {
        "id": "Ny7T49gliyp-",
        "colab_type": "code",
        "colab": {}
      },
      "source": [
        " "
      ],
      "execution_count": null,
      "outputs": []
    },
    {
      "cell_type": "code",
      "metadata": {
        "id": "NjKwbvxKYJc-",
        "colab_type": "code",
        "colab": {
          "base_uri": "https://localhost:8080/",
          "height": 102
        },
        "outputId": "4cc9f773-5e7e-4607-aedb-a433abf2d57d"
      },
      "source": [
        "import operator\n",
        "n=int(input('Enter no. of obj'))\n",
        "profit=list(map(int,input('Enter profit values :').split()))\n",
        "weight=list(map(int,input('Enter weight values :').split()))\n",
        "m=int(input('Enter max capacity of sack'))\n",
        "\n",
        "l=[]#[p,w,p/w],[...],..\n",
        "for i in range(n):\n",
        "  l.append([profit[i],weight[i],profit[i]*1.0/weight[i]])\n",
        "\n",
        "#sort\n",
        "l=sorted(l,reverse=True,key=operator.itemgetter(2))\n",
        "\n",
        "max_prof =0\n",
        "fract_obj=0\n",
        "\n",
        "for i in range(n):\n",
        "  if m>0 and l[i][1]<m:\n",
        "    m-=l[i][1]\n",
        "    max_prof+=l[i][0]\n",
        "  else:\n",
        "     fract_obj=i\n",
        "     break\n",
        "if m>0:\n",
        "  max_prof+=m*(l[fract_obj][0]/l[fract_obj][1])\n",
        "print(max_prof)"
      ],
      "execution_count": null,
      "outputs": [
        {
          "output_type": "stream",
          "text": [
            "Enter no. of obj3\n",
            "Enter profit values :60 100 120\n",
            "Enter weight values :10 20 30\n",
            "Enter max capacity of sack50\n",
            "240.0\n"
          ],
          "name": "stdout"
        }
      ]
    }
  ]
}